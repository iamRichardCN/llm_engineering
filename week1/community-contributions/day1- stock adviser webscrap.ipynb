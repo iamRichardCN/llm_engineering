{
 "cells": [
  {
   "cell_type": "code",
   "execution_count": 1,
   "id": "2e40e4f0-4f65-4f68-be50-07401959f46e",
   "metadata": {},
   "outputs": [],
   "source": [
    "import os\n",
    "import requests\n",
    "from dotenv import load_dotenv\n",
    "from bs4 import BeautifulSoup\n",
    "from IPython.display import Markdown, display\n",
    "from openai import OpenAI"
   ]
  },
  {
   "cell_type": "code",
   "execution_count": 2,
   "id": "fea8f921-7f2f-4942-9f88-cb6eb64ea731",
   "metadata": {},
   "outputs": [
    {
     "name": "stdout",
     "output_type": "stream",
     "text": [
      "API key found and looks good so far!\n"
     ]
    }
   ],
   "source": [
    "# Load environment variables in a file called .env\n",
    "\n",
    "load_dotenv()\n",
    "api_key = os.getenv('OPENAI_API_KEY')\n",
    "\n",
    "# Check the key\n",
    "\n",
    "if not api_key:\n",
    "    print(\"No API key was found - please head over to the troubleshooting notebook in this folder to identify & fix!\")\n",
    "elif not api_key.startswith(\"sk-proj-\"):\n",
    "    print(\"An API key was found, but it doesn't start sk-proj-; please check you're using the right key - see troubleshooting notebook\")\n",
    "elif api_key.strip() != api_key:\n",
    "    print(\"An API key was found, but it looks like it might have space or tab characters at the start or end - please remove them - see troubleshooting notebook\")\n",
    "else:\n",
    "    print(\"API key found and looks good so far!\")"
   ]
  },
  {
   "cell_type": "code",
   "execution_count": 3,
   "id": "8d90ba3b-e50e-4a7d-820f-e669ea3679ff",
   "metadata": {},
   "outputs": [],
   "source": [
    "#call open AI\n",
    "openai = OpenAI()\n"
   ]
  },
  {
   "cell_type": "code",
   "execution_count": 4,
   "id": "046a59c6-56f5-4a09-89bd-8163075ad643",
   "metadata": {},
   "outputs": [],
   "source": [
    "# A class to represent a Webpage\n",
    "\n",
    "headers = {\n",
    "    \"User-Agent\": \"Mozilla/5.0 (Windows NT 10.0; Win64; x64) AppleWebKit/537.36 (KHTML, like Gecko) Chrome/117.0.0.0 Safari/537.36\"\n",
    "}\n",
    "class Website:\n",
    "    def __init__(self, url):\n",
    "        \"\"\"\n",
    "        Create this Website object for a Finance latest news\n",
    "        \"\"\"\n",
    "        self.url = url\n",
    "        response = requests.get(url, headers=headers)\n",
    "        soup = BeautifulSoup(response.content, 'html.parser')\n",
    "        \n",
    "        self.title = soup.title.string if soup.title else \"No title found\"\n",
    "        \n",
    "        # Find news headlines and content \n",
    "        news_data = []\n",
    "        \n",
    "        # Try different selectors \n",
    "        news_items = soup.find_all('h3') + soup.find_all('h2')\n",
    "        \n",
    "        for item in news_items:\n",
    "            headline = item.get_text(strip=True)\n",
    "            if headline and len(headline) > 20:  # Filter out short/empty text\n",
    "                # Try to find content near the headline\n",
    "                content = \"\"\n",
    "                parent = item.find_parent()\n",
    "                if parent:\n",
    "                    # Look for paragraph or summary text\n",
    "                    summary = parent.find('p')\n",
    "                    if summary:\n",
    "                        content = summary.get_text(strip=True)[:300] + \"...\"\n",
    "                \n",
    "                news_data.append({'headline': headline, 'content': content})\n",
    "        \n",
    "        # Create the text content\n",
    "        self.text = \"Latest financial news headlines:\\n\\n\"\n",
    "        \n",
    "        # Get top 5 headlines with content\n",
    "        for i, news in enumerate(news_data[:10], 1):\n",
    "            self.text += f\"{i}. {news['headline']}\\n\"\n",
    "            if news['content']:\n",
    "                self.text += f\"   Summary: {news['content']}\\n\"\n",
    "            self.text += \"\\n\"\n",
    "        \n",
    "        if not news_data:\n",
    "            self.text = \"No headlines found. Yahoo Finance structure may have changed.\"\n"
   ]
  },
  {
   "cell_type": "code",
   "execution_count": 5,
   "id": "b5b1c72e-bc74-4ed0-9a64-795ca9bac74d",
   "metadata": {},
   "outputs": [
    {
     "name": "stdout",
     "output_type": "stream",
     "text": [
      "Title: Yahoo Finance - Stock Market Live, Quotes, Business & Finance News\n",
      "Top News:\n",
      "Latest financial news headlines:\n",
      "\n",
      "1. Small businesses struggle under Trump’s tariff whiplash: ‘I’m so angry that my own government has done this to me’\n",
      "   Summary: For some small businesses, the last week brought even more twists and turns to the past two months of President Donald Trump’s chaotic tariffs....\n",
      "\n",
      "2. Forget tacos, can Trump have his tariff cake and eat it too? Wall Street’s biggest bull thinks so\n",
      "   Summary: Wells Fargo's Christopher Harvey thinks a 10% tariff could be split evenly between importers, corporations, and consumers....\n",
      "\n",
      "3. US will never default on its debt, claims Trump’s Treasury Secretary\n",
      "   Summary: The US will never default on its debts, Donald Trump’s Treasury Secretary has claimed, as he sought to downplay growing concerns over the state of the country’s public finances....\n",
      "\n",
      "4. JPMorgan Chase CEO Jamie Dimon says he wouldn't count on China folding under Trump's tariffs: 'They're not scared, folks.'\n",
      "   Summary: Jamie Dimon appeared at the 2025 Reagan National Economic Forum on Friday, saying he's concerned if the US can \"get our own act together.\"...\n",
      "\n",
      "5. A 529 account can make saving for your child's future go farther\n",
      "   Summary: A 529 account is meant to financially plan for a child's education — but it can also be used to set them up for retirement....\n",
      "\n",
      "6. Commentary: Identifying winning stocks is hard. Holding winning stocks is a nightmare.\n",
      "   Summary: It turns out that the stocks offering the best returns for investors historically experienced incredibly painful max drawdowns (i.e. percentage declines from a price peak to a trough)....\n",
      "\n",
      "7. Why new cannabis companies face high barriers to entry\n",
      "   Summary: Founders of cannabis companies have found that there's still a significant barrier to entry, especially when it comes to securing financing....\n",
      "\n",
      "8. E.l.f. Beauty remains committed to manufacturing in China despite tariffs\n",
      "   Summary: Affordable cosmetics company e.l.f. Beauty has long relied on China to keep its prices low and create value-oriented \"dupes\" of higher-end products. Now, President Trump’s economic agenda is putting that model to the test....\n",
      "\n",
      "9. Why Scott Bessent wants to make it easier for banks to own Treasurys\n",
      "   Summary: US regulators are close to easing a key requirement for banks that the Trump administration hopes will inject more liquidity into the Treasury market. The move would mark a retreat from a rule made following the 2008 financial crisis....\n",
      "\n",
      "10. 'This is a roller coaster ride': How Trump's tariffs turned the 'TACO' trade into Wall Street's biggest debate\n",
      "   Summary: Ongoing US-China trade tensions and volatile policy shifts have left investors caught between betting on tariff deescalations and bracing for increased uncertainty....\n",
      "\n",
      "\n"
     ]
    }
   ],
   "source": [
    "website = Website(\"https://finance.yahoo.com/topic/latest-news/\")\n",
    "\n",
    "print(\"Title:\", website.title)\n",
    "print(\"Top News:\")\n",
    "print(website.text)\n"
   ]
  },
  {
   "cell_type": "code",
   "execution_count": 6,
   "id": "2c0ac856-b0d8-4b15-8092-71ab3952a0d9",
   "metadata": {},
   "outputs": [],
   "source": [
    "# Define our system prompt\n",
    "system_prompt = \"\"\"You are a veteran stock market and finance expert with 50+ years of experience helping investors make safe, steady gains. Your audience is beginners with small amounts to invest (around $100). \n",
    "\n",
    "**Response Format:**\n",
    "1. Start with \"The News Snapshot:\" - Write 3-4 lines summarizing the key financial developments from the provided headlines and summaries, showing you understand the current market situation, start the write up for this with today in the news we see that...\n",
    "\n",
    "2. Give specific stock advice based on the news:\n",
    "  - What to avoid and why\n",
    "  - 2-3 specific stock recommendations with ticker symbols\n",
    "  - Focus only on safe, dividend-paying stocks or clear beneficiaries from the news\n",
    "\n",
    "3. End with \"The big picture:\" - One sentence explaining the overall market condition\n",
    "\n",
    "4. Close with \"Your game plan:\" - Simple, actionable advice for their $100 to show how to split it\n",
    "\n",
    "**Tone & Style:**\n",
    "- Talk like a knowledgeable but friendly Wall Street professional advising a beginner\n",
    "- Keep it under 200 words total\n",
    "- Use simple language, no complex jargon\n",
    "- Be direct and practical\n",
    "- Focus on capital preservation over quick gains\n",
    "- Always relate advice directly to the news headlines provided\n",
    "\n",
    "**Key Rules:**\n",
    "- Only recommend established, safe stocks\n",
    "- Always explain WHY based on the news\n",
    "- No speculative or meme stocks\n",
    "- Emphasize learning over quick profits\"\"\""
   ]
  },
  {
   "cell_type": "code",
   "execution_count": 7,
   "id": "077acf13-6e37-488f-a7c7-5f301266f57f",
   "metadata": {},
   "outputs": [],
   "source": [
    "# A function that writes a User Prompt that asks for summaries of websites:\n",
    "\n",
    "def user_prompt_for(website):\n",
    "    user_prompt = f\"You are looking at a website titled {website.title}\"\n",
    "    user_prompt += \"\\nThe contents of this website is as follows; \\\n",
    "please provide a provide your investment advice for a beginner with $100. \\\n",
    "Because it includes finance news or trend, let the advice be based on these too.\\n\\n\"\n",
    "    user_prompt += website.text\n",
    "    return user_prompt"
   ]
  },
  {
   "cell_type": "code",
   "execution_count": 8,
   "id": "1c129909-769c-49f0-a84d-85a25972463b",
   "metadata": {},
   "outputs": [],
   "source": [
    "def messages_for(website):\n",
    "    return [\n",
    "        {\"role\": \"system\", \"content\": system_prompt},\n",
    "        {\"role\": \"user\", \"content\": user_prompt_for(website)}\n",
    "    ]"
   ]
  },
  {
   "cell_type": "code",
   "execution_count": 9,
   "id": "2c9f998f-639f-451b-a67e-5a95978ab70d",
   "metadata": {},
   "outputs": [],
   "source": [
    "def get_advice(url):\n",
    "    website = Website(url)\n",
    "    response = openai.chat.completions.create(\n",
    "        model = \"gpt-4o-mini\",\n",
    "        messages = messages_for(website)\n",
    "    )\n",
    "    return response.choices[0].message.content"
   ]
  },
  {
   "cell_type": "code",
   "execution_count": 10,
   "id": "402b4bb4-fbf4-4930-9cd1-4ede22491fa2",
   "metadata": {},
   "outputs": [
    {
     "data": {
      "text/plain": [
       "\"The News Snapshot: Today in the news, we see that small businesses are noticeably affected by ongoing tariff changes, contributing to market uncertainty. Experts like JPMorgan Chase's Jamie Dimon warn that the U.S.-China trade tensions are far from resolved. However, the Treasury Secretary reassured that the U.S. will not default on its debt, providing some stability amidst this turmoil.\\n\\nSpecific Stock Advice:\\nAvoid stocks in the tech sector that heavily rely on Chinese manufacturing, as tariffs could increase costs significantly. Instead, consider investing in established, dividend-paying companies such as:\\n1. **Procter & Gamble Co. (PG)**: A consumer goods giant that can withstand tariff pressures due to its diverse product line and steady demand.\\n2. **Johnson & Johnson (JNJ)**: A strong pharmaceutical company with a history of stable dividends and a diverse portfolio that mitigates risk from tariff-related issues.\\n3. **Coca-Cola Co. (KO)**: With a robust global presence, Coca-Cola can handle tariff fluctuations well while offering attractive dividends.\\n\\nThe big picture: The market is currently experiencing turbulence due to trade uncertainties, but strong, dividend-paying companies remain stable.\\n\\nYour game plan: Split your $100 by investing $30 in PG, $30 in JNJ, and $30 in KO, leaving $10 as a cushion for future investments or to reinvest in any of these stocks after learning more about their performance.\""
      ]
     },
     "execution_count": 10,
     "metadata": {},
     "output_type": "execute_result"
    }
   ],
   "source": [
    "get_advice(\"https://finance.yahoo.com/topic/latest-news/\")"
   ]
  },
  {
   "cell_type": "code",
   "execution_count": 11,
   "id": "0427753f-6b47-4c36-b68f-0f22abd8a7cd",
   "metadata": {},
   "outputs": [],
   "source": [
    "def display_fin_advice(url):\n",
    "    advice_content = get_advice(url)  \n",
    "    display(Markdown(advice_content))"
   ]
  },
  {
   "cell_type": "code",
   "execution_count": 12,
   "id": "1d26e64f-fdd0-4492-9b20-a54847b11139",
   "metadata": {},
   "outputs": [
    {
     "data": {
      "text/markdown": [
       "**The News Snapshot:** Today in the news, we see that small businesses are feeling the effects of President Trump's tariffs, sparking worries about their viability. Meanwhile, confidence remains about the U.S. never defaulting on its debt, though concerns linger about the economic landscape, especially with China not likely to back down under these pressures. \n",
       "\n",
       "**Stock Advice:** Given the current environment, it's wise to avoid small-cap stocks or volatile companies reliant on international trade, as tariffs create uncertainty. Instead, consider investing in safe, dividend-paying stocks that can weather economic ups and downs. I recommend **Procter & Gamble (PG)** for its consistent dividends and stability, **Johnson & Johnson (JNJ)** for its strong product portfolio and dividend history, and **Coca-Cola (KO)**, which also offers a reliable dividend and global reach. \n",
       "\n",
       "**The big picture:** The overall market is cautious due to ongoing trade tensions, but strong fundamentals in established companies provide stability.\n",
       "\n",
       "**Your game plan:** With your $100, consider allocating $40 to Procter & Gamble, $30 to Johnson & Johnson, and $30 to Coca-Cola. This mix offers diversity and the benefit of dividend income while focusing on capital preservation."
      ],
      "text/plain": [
       "<IPython.core.display.Markdown object>"
      ]
     },
     "metadata": {},
     "output_type": "display_data"
    }
   ],
   "source": [
    "display_fin_advice(\"https://finance.yahoo.com/topic/latest-news/\")\n"
   ]
  },
  {
   "cell_type": "code",
   "execution_count": null,
   "id": "7567571d-b4c7-41be-9fd0-d65ae533a252",
   "metadata": {},
   "outputs": [],
   "source": []
  }
 ],
 "metadata": {
  "kernelspec": {
   "display_name": "Python 3 (ipykernel)",
   "language": "python",
   "name": "python3"
  },
  "language_info": {
   "codemirror_mode": {
    "name": "ipython",
    "version": 3
   },
   "file_extension": ".py",
   "mimetype": "text/x-python",
   "name": "python",
   "nbconvert_exporter": "python",
   "pygments_lexer": "ipython3",
   "version": "3.11.11"
  }
 },
 "nbformat": 4,
 "nbformat_minor": 5
}
